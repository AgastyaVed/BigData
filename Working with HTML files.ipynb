{
 "cells": [
  {
   "cell_type": "markdown",
   "metadata": {},
   "source": [
    "The fields required in the final table are:\n",
    "\n",
    "Rank - the integer value from the Board Game Rank column\n",
    "ImageURL - the URL (as provided) of the image presented in the second column\n",
    "Title - the title of the game\n",
    "YearPublished - the year the game was published\n",
    "GeekRating - the float value presented in the Geek Rating field\n",
    "AvgRating - the float value presented in the Avg Rating field\n",
    "NumVoters - the integer value presented in the NumVoters field"
   ]
  },
  {
   "cell_type": "code",
   "execution_count": 1,
   "metadata": {},
   "outputs": [
    {
     "ename": "ModuleNotFoundError",
     "evalue": "No module named 'pyspark'",
     "output_type": "error",
     "traceback": [
      "\u001b[1;31m---------------------------------------------------------------------------\u001b[0m",
      "\u001b[1;31mModuleNotFoundError\u001b[0m                       Traceback (most recent call last)",
      "\u001b[1;32m<ipython-input-1-cd3c7512df84>\u001b[0m in \u001b[0;36m<module>\u001b[1;34m\u001b[0m\n\u001b[0;32m      3\u001b[0m \u001b[1;32mimport\u001b[0m \u001b[0mre\u001b[0m\u001b[1;33m\u001b[0m\u001b[1;33m\u001b[0m\u001b[0m\n\u001b[0;32m      4\u001b[0m \u001b[1;32mfrom\u001b[0m \u001b[0mdatetime\u001b[0m \u001b[1;32mimport\u001b[0m \u001b[0mdatetime\u001b[0m\u001b[1;33m\u001b[0m\u001b[1;33m\u001b[0m\u001b[0m\n\u001b[1;32m----> 5\u001b[1;33m \u001b[1;32mfrom\u001b[0m \u001b[0mpyspark\u001b[0m\u001b[1;33m.\u001b[0m\u001b[0msql\u001b[0m\u001b[1;33m.\u001b[0m\u001b[0mtypes\u001b[0m \u001b[1;32mimport\u001b[0m \u001b[1;33m*\u001b[0m\u001b[1;33m\u001b[0m\u001b[1;33m\u001b[0m\u001b[0m\n\u001b[0m\u001b[0;32m      6\u001b[0m \u001b[1;33m\u001b[0m\u001b[0m\n\u001b[0;32m      7\u001b[0m \u001b[0mrequest\u001b[0m \u001b[1;33m=\u001b[0m \u001b[0murl\u001b[0m\u001b[1;33m.\u001b[0m\u001b[0mRequest\u001b[0m\u001b[1;33m(\u001b[0m\u001b[1;34m'https://boardgamegeek.com/browse/boardgame'\u001b[0m\u001b[1;33m)\u001b[0m\u001b[1;33m\u001b[0m\u001b[1;33m\u001b[0m\u001b[0m\n",
      "\u001b[1;31mModuleNotFoundError\u001b[0m: No module named 'pyspark'"
     ]
    }
   ],
   "source": [
    "from urllib import request as url \n",
    "from bs4 import BeautifulSoup\n",
    "import re\n",
    "from datetime import datetime\n",
    "from pyspark.sql.types import *\n",
    "\n",
    "request = url.Request('https://boardgamegeek.com/browse/boardgame')\n",
    "try:\n",
    "    response = url.urlopen(request)\n",
    "except urllib.error.HTTPError as e:\n",
    "    print('The HTTP status code returned is {0}'.format(e.getcode()) )\n",
    "    print('The message returned is \\'{0}\\'\\n'.format(e.msg) )\n",
    "    print('The headers are the response are:\\n{0}\\n'.format(e.headers) )\n",
    "    print('The content actually returned is:\\n{0}'.format(e.fp.read().strip()))\n",
    "    \n",
    "html = response.read()\n",
    "\n",
    "soup = BeautifulSoup(html)"
   ]
  },
  {
   "cell_type": "code",
   "execution_count": 11,
   "metadata": {},
   "outputs": [],
   "source": [
    "div = soup.find('div', attrs={'class':'table-responsive'})\n",
    "tables = div.find_all('table')"
   ]
  },
  {
   "cell_type": "code",
   "execution_count": 176,
   "metadata": {
    "scrolled": true
   },
   "outputs": [],
   "source": [
    "div = soup.find('div', attrs={'class':'table-responsive'})\n",
    "tables = div.find_all('table')\n",
    "\n",
    "table = soup.find('table', attrs={'class':'collection_table'})\n",
    "table_rows = table.find_all('tr',attrs={'id':'row_'})\n",
    "table_data = []\n",
    "for table_row in table_rows:  \n",
    "    Rank = table_row.find('td', attrs={'class':'collection_rank'}).find('a')['name']\n",
    "    ImageURL = table_row.find('td', attrs={'class':'collection_thumbnail'}).find('img')['src']\n",
    "    Title = table_row.find('td', attrs={'class':'collection_objectname'}).find('a').text\n",
    "    YearPublished = table_row.find('td', attrs={'class':'collection_objectname'}).find('span').text[1:5]   \n",
    "    [GeekRating,AvgRating,NumVoters]=[td.text.strip() for td in table_rows[1].find_all('td', attrs={'class':'collection_bggrating'})]\n",
    "    row_data = [int(Rank), ImageURL, Title, int(YearPublished), float(GeekRating), float(AvgRating), float(NumVoters)]    \n",
    "    table_data.append(row_data)"
   ]
  }
 ],
 "metadata": {
  "kernelspec": {
   "display_name": "Python 3",
   "language": "python",
   "name": "python3"
  },
  "language_info": {
   "codemirror_mode": {
    "name": "ipython",
    "version": 3
   },
   "file_extension": ".py",
   "mimetype": "text/x-python",
   "name": "python",
   "nbconvert_exporter": "python",
   "pygments_lexer": "ipython3",
   "version": "3.6.9"
  }
 },
 "nbformat": 4,
 "nbformat_minor": 2
}
